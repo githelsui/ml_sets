{
 "cells": [
  {
   "cell_type": "code",
   "execution_count": 2,
   "id": "4b17227a",
   "metadata": {},
   "outputs": [],
   "source": [
    "import pathlib\n",
    "from tqdm import tqdm\n",
    "import opendatasets as od\n",
    "import pandas\n",
    "import kaggle\n",
    "\n",
    "kaggle.api.authenticate()"
   ]
  },
  {
   "cell_type": "code",
   "execution_count": 3,
   "id": "72036de1",
   "metadata": {},
   "outputs": [],
   "source": [
    "BASE_DIR = pathlib.Path().resolve().parent\n",
    "DATASETS_DIR = BASE_DIR / \"datasets\"\n",
    "DATASETS_DIR.mkdir(exist_ok=True, parents=True)"
   ]
  },
  {
   "cell_type": "code",
   "execution_count": 4,
   "id": "20319a40",
   "metadata": {},
   "outputs": [],
   "source": [
    "# downloads kaggle dataset with our authenticated user and key\n",
    "kaggle.api.dataset_download_files('shravankumar9892/image-colorization', path=DATASETS_DIR, unzip=True)"
   ]
  }
 ],
 "metadata": {
  "kernelspec": {
   "display_name": "Python 3 (ipykernel)",
   "language": "python",
   "name": "python3"
  },
  "language_info": {
   "codemirror_mode": {
    "name": "ipython",
    "version": 3
   },
   "file_extension": ".py",
   "mimetype": "text/x-python",
   "name": "python",
   "nbconvert_exporter": "python",
   "pygments_lexer": "ipython3",
   "version": "3.9.13"
  }
 },
 "nbformat": 4,
 "nbformat_minor": 5
}
